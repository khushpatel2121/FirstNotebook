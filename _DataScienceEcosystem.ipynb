{
 "cells": [
  {
   "attachments": {},
   "cell_type": "markdown",
   "id": "6ac16b58",
   "metadata": {},
   "source": [
    "# Data Science Tools and Ecosystem\n"
   ]
  },
  {
   "attachments": {},
   "cell_type": "markdown",
   "id": "111b2300",
   "metadata": {},
   "source": [
    "In this notebook, Data Science Tools and Ecosystem are summarized.\n",
    "\n",
    "**Objectives:**\n",
    "- Popular langauges used for data science\n",
    "- Some commonly used libraries for data science\n",
    "- Tools for data science "
   ]
  },
  {
   "attachments": {},
   "cell_type": "markdown",
   "id": "a0183589",
   "metadata": {},
   "source": [
    "Some of the popular languages that Data Scientists use are:\n",
    "    \n",
    "    1 Julia \n",
    "    2 pyhton \n",
    "    3 java\n",
    "    4 r\n",
    "    5 scala\n",
    "    6 C++\n",
    "    "
   ]
  },
  {
   "attachments": {},
   "cell_type": "markdown",
   "id": "f90daeb1",
   "metadata": {},
   "source": [
    "Some of the commonly used libraries used by Data Scientists include:\n",
    "    \n",
    "    1 TensorFlow\n",
    "    2 Scikit-learn\n",
    "    3 Numpy\n",
    "    4 Pandas\n",
    "    5 Matplotlib\n",
    "\n"
   ]
  },
  {
   "attachments": {},
   "cell_type": "markdown",
   "id": "51eabc48",
   "metadata": {},
   "source": [
    "|Data Science Tools | \n",
    "|--- |\n",
    "|Matplotlib |\n",
    "|Watson Studio \n",
    "|Scikit-learn |\n",
    "\n"
   ]
  },
  {
   "cell_type": "code",
   "execution_count": 2,
   "id": "2877009a",
   "metadata": {},
   "outputs": [
    {
     "name": "stdout",
     "output_type": "stream",
     "text": [
      "20\n"
     ]
    }
   ],
   "source": [
    "print((3*5)+5)\n",
    "#  This a simple arithmetic expression to mutiply then add integers."
   ]
  },
  {
   "cell_type": "code",
   "execution_count": 5,
   "id": "98b5f7b4",
   "metadata": {},
   "outputs": [
    {
     "name": "stdout",
     "output_type": "stream",
     "text": [
      "Enter Minutes :200\n",
      "3.3333333333333335\n"
     ]
    }
   ],
   "source": [
    "# Convert Minutes into Hours \n",
    "Min = int(input('Enter Minutes :'))\n",
    "Hours = Min/60\n",
    "print(f'{Hours}')"
   ]
  },
  {
   "attachments": {},
   "cell_type": "markdown",
   "id": "e4982015",
   "metadata": {},
   "source": [
    "## Author\n",
    "Khush Patel"
   ]
  }
 ],
 "metadata": {
  "kernelspec": {
   "display_name": "Python 3 (ipykernel)",
   "language": "python",
   "name": "python3"
  },
  "language_info": {
   "codemirror_mode": {
    "name": "ipython",
    "version": 3
   },
   "file_extension": ".py",
   "mimetype": "text/x-python",
   "name": "python",
   "nbconvert_exporter": "python",
   "pygments_lexer": "ipython3",
   "version": "3.10.9"
  }
 },
 "nbformat": 4,
 "nbformat_minor": 5
}
